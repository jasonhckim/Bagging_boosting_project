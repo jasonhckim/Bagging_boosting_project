{
  "nbformat": 4,
  "nbformat_minor": 0,
  "metadata": {
    "colab": {
      "name": "Bagging_boosting_project",
      "provenance": [],
      "collapsed_sections": [],
      "include_colab_link": true
    },
    "kernelspec": {
      "name": "python3",
      "display_name": "Python 3"
    },
    "language_info": {
      "name": "python"
    }
  },
  "cells": [
    {
      "cell_type": "markdown",
      "metadata": {
        "id": "view-in-github",
        "colab_type": "text"
      },
      "source": [
        "<a href=\"https://colab.research.google.com/github/jasonhckim/Bagging_boosting_project/blob/main/Bagging_boosting_project.ipynb\" target=\"_parent\"><img src=\"https://colab.research.google.com/assets/colab-badge.svg\" alt=\"Open In Colab\"/></a>"
      ]
    },
    {
      "cell_type": "code",
      "source": [
        "## Section 1"
      ],
      "metadata": {
        "id": "JQP-dE8VM0Yv"
      },
      "execution_count": 517,
      "outputs": []
    },
    {
      "cell_type": "code",
      "execution_count": 518,
      "metadata": {
        "id": "XBaqRbByBAnP"
      },
      "outputs": [],
      "source": [
        "# importing libraries\n",
        "import numpy as np\n",
        "import pandas as pd\n",
        "from matplotlib import pyplot as plt\n",
        "import seaborn as sns\n",
        "import warnings\n",
        "warnings.filterwarnings('ignore')\n",
        "from scipy.stats import zscore"
      ]
    },
    {
      "cell_type": "code",
      "source": [
        "#Loading the data\n",
        "df = pd.read_csv('/content/talking_data.csv')"
      ],
      "metadata": {
        "id": "27hJHPqyFHS_"
      },
      "execution_count": 519,
      "outputs": []
    },
    {
      "cell_type": "code",
      "source": [
        "#\n",
        "df.head()"
      ],
      "metadata": {
        "colab": {
          "base_uri": "https://localhost:8080/",
          "height": 206
        },
        "id": "KEbVYV5xFN8c",
        "outputId": "0b2a97a9-1310-48c8-f042-655a0bf63a91"
      },
      "execution_count": 520,
      "outputs": [
        {
          "output_type": "execute_result",
          "data": {
            "text/html": [
              "\n",
              "  <div id=\"df-5a51ace0-ea87-42d3-be97-2dd7e4bd37c2\">\n",
              "    <div class=\"colab-df-container\">\n",
              "      <div>\n",
              "<style scoped>\n",
              "    .dataframe tbody tr th:only-of-type {\n",
              "        vertical-align: middle;\n",
              "    }\n",
              "\n",
              "    .dataframe tbody tr th {\n",
              "        vertical-align: top;\n",
              "    }\n",
              "\n",
              "    .dataframe thead th {\n",
              "        text-align: right;\n",
              "    }\n",
              "</style>\n",
              "<table border=\"1\" class=\"dataframe\">\n",
              "  <thead>\n",
              "    <tr style=\"text-align: right;\">\n",
              "      <th></th>\n",
              "      <th>ip</th>\n",
              "      <th>app</th>\n",
              "      <th>device</th>\n",
              "      <th>os</th>\n",
              "      <th>channel</th>\n",
              "      <th>click_time</th>\n",
              "      <th>attributed_time</th>\n",
              "      <th>is_attributed</th>\n",
              "    </tr>\n",
              "  </thead>\n",
              "  <tbody>\n",
              "    <tr>\n",
              "      <th>0</th>\n",
              "      <td>87540</td>\n",
              "      <td>12</td>\n",
              "      <td>1</td>\n",
              "      <td>13</td>\n",
              "      <td>497</td>\n",
              "      <td>2017-11-07 09:30:38</td>\n",
              "      <td>NaN</td>\n",
              "      <td>0</td>\n",
              "    </tr>\n",
              "    <tr>\n",
              "      <th>1</th>\n",
              "      <td>105560</td>\n",
              "      <td>25</td>\n",
              "      <td>1</td>\n",
              "      <td>17</td>\n",
              "      <td>259</td>\n",
              "      <td>2017-11-07 13:40:27</td>\n",
              "      <td>NaN</td>\n",
              "      <td>0</td>\n",
              "    </tr>\n",
              "    <tr>\n",
              "      <th>2</th>\n",
              "      <td>101424</td>\n",
              "      <td>12</td>\n",
              "      <td>1</td>\n",
              "      <td>19</td>\n",
              "      <td>212</td>\n",
              "      <td>2017-11-07 18:05:24</td>\n",
              "      <td>NaN</td>\n",
              "      <td>0</td>\n",
              "    </tr>\n",
              "    <tr>\n",
              "      <th>3</th>\n",
              "      <td>94584</td>\n",
              "      <td>13</td>\n",
              "      <td>1</td>\n",
              "      <td>13</td>\n",
              "      <td>477</td>\n",
              "      <td>2017-11-07 04:58:08</td>\n",
              "      <td>NaN</td>\n",
              "      <td>0</td>\n",
              "    </tr>\n",
              "    <tr>\n",
              "      <th>4</th>\n",
              "      <td>68413</td>\n",
              "      <td>12</td>\n",
              "      <td>1</td>\n",
              "      <td>1</td>\n",
              "      <td>178</td>\n",
              "      <td>2017-11-09 09:00:09</td>\n",
              "      <td>NaN</td>\n",
              "      <td>0</td>\n",
              "    </tr>\n",
              "  </tbody>\n",
              "</table>\n",
              "</div>\n",
              "      <button class=\"colab-df-convert\" onclick=\"convertToInteractive('df-5a51ace0-ea87-42d3-be97-2dd7e4bd37c2')\"\n",
              "              title=\"Convert this dataframe to an interactive table.\"\n",
              "              style=\"display:none;\">\n",
              "        \n",
              "  <svg xmlns=\"http://www.w3.org/2000/svg\" height=\"24px\"viewBox=\"0 0 24 24\"\n",
              "       width=\"24px\">\n",
              "    <path d=\"M0 0h24v24H0V0z\" fill=\"none\"/>\n",
              "    <path d=\"M18.56 5.44l.94 2.06.94-2.06 2.06-.94-2.06-.94-.94-2.06-.94 2.06-2.06.94zm-11 1L8.5 8.5l.94-2.06 2.06-.94-2.06-.94L8.5 2.5l-.94 2.06-2.06.94zm10 10l.94 2.06.94-2.06 2.06-.94-2.06-.94-.94-2.06-.94 2.06-2.06.94z\"/><path d=\"M17.41 7.96l-1.37-1.37c-.4-.4-.92-.59-1.43-.59-.52 0-1.04.2-1.43.59L10.3 9.45l-7.72 7.72c-.78.78-.78 2.05 0 2.83L4 21.41c.39.39.9.59 1.41.59.51 0 1.02-.2 1.41-.59l7.78-7.78 2.81-2.81c.8-.78.8-2.07 0-2.86zM5.41 20L4 18.59l7.72-7.72 1.47 1.35L5.41 20z\"/>\n",
              "  </svg>\n",
              "      </button>\n",
              "      \n",
              "  <style>\n",
              "    .colab-df-container {\n",
              "      display:flex;\n",
              "      flex-wrap:wrap;\n",
              "      gap: 12px;\n",
              "    }\n",
              "\n",
              "    .colab-df-convert {\n",
              "      background-color: #E8F0FE;\n",
              "      border: none;\n",
              "      border-radius: 50%;\n",
              "      cursor: pointer;\n",
              "      display: none;\n",
              "      fill: #1967D2;\n",
              "      height: 32px;\n",
              "      padding: 0 0 0 0;\n",
              "      width: 32px;\n",
              "    }\n",
              "\n",
              "    .colab-df-convert:hover {\n",
              "      background-color: #E2EBFA;\n",
              "      box-shadow: 0px 1px 2px rgba(60, 64, 67, 0.3), 0px 1px 3px 1px rgba(60, 64, 67, 0.15);\n",
              "      fill: #174EA6;\n",
              "    }\n",
              "\n",
              "    [theme=dark] .colab-df-convert {\n",
              "      background-color: #3B4455;\n",
              "      fill: #D2E3FC;\n",
              "    }\n",
              "\n",
              "    [theme=dark] .colab-df-convert:hover {\n",
              "      background-color: #434B5C;\n",
              "      box-shadow: 0px 1px 3px 1px rgba(0, 0, 0, 0.15);\n",
              "      filter: drop-shadow(0px 1px 2px rgba(0, 0, 0, 0.3));\n",
              "      fill: #FFFFFF;\n",
              "    }\n",
              "  </style>\n",
              "\n",
              "      <script>\n",
              "        const buttonEl =\n",
              "          document.querySelector('#df-5a51ace0-ea87-42d3-be97-2dd7e4bd37c2 button.colab-df-convert');\n",
              "        buttonEl.style.display =\n",
              "          google.colab.kernel.accessAllowed ? 'block' : 'none';\n",
              "\n",
              "        async function convertToInteractive(key) {\n",
              "          const element = document.querySelector('#df-5a51ace0-ea87-42d3-be97-2dd7e4bd37c2');\n",
              "          const dataTable =\n",
              "            await google.colab.kernel.invokeFunction('convertToInteractive',\n",
              "                                                     [key], {});\n",
              "          if (!dataTable) return;\n",
              "\n",
              "          const docLinkHtml = 'Like what you see? Visit the ' +\n",
              "            '<a target=\"_blank\" href=https://colab.research.google.com/notebooks/data_table.ipynb>data table notebook</a>'\n",
              "            + ' to learn more about interactive tables.';\n",
              "          element.innerHTML = '';\n",
              "          dataTable['output_type'] = 'display_data';\n",
              "          await google.colab.output.renderOutput(dataTable, element);\n",
              "          const docLink = document.createElement('div');\n",
              "          docLink.innerHTML = docLinkHtml;\n",
              "          element.appendChild(docLink);\n",
              "        }\n",
              "      </script>\n",
              "    </div>\n",
              "  </div>\n",
              "  "
            ],
            "text/plain": [
              "       ip  app  device  ...           click_time  attributed_time is_attributed\n",
              "0   87540   12       1  ...  2017-11-07 09:30:38              NaN             0\n",
              "1  105560   25       1  ...  2017-11-07 13:40:27              NaN             0\n",
              "2  101424   12       1  ...  2017-11-07 18:05:24              NaN             0\n",
              "3   94584   13       1  ...  2017-11-07 04:58:08              NaN             0\n",
              "4   68413   12       1  ...  2017-11-09 09:00:09              NaN             0\n",
              "\n",
              "[5 rows x 8 columns]"
            ]
          },
          "metadata": {},
          "execution_count": 520
        }
      ]
    },
    {
      "cell_type": "code",
      "source": [
        "df['is_attributed'].value_counts()"
      ],
      "metadata": {
        "colab": {
          "base_uri": "https://localhost:8080/"
        },
        "id": "9RurxV2PN1EY",
        "outputId": "33d18cd9-450a-4fde-c022-0bfd10f1d4e3"
      },
      "execution_count": 521,
      "outputs": [
        {
          "output_type": "execute_result",
          "data": {
            "text/plain": [
              "0    99773\n",
              "1      227\n",
              "Name: is_attributed, dtype: int64"
            ]
          },
          "metadata": {},
          "execution_count": 521
        }
      ]
    },
    {
      "cell_type": "code",
      "source": [
        "df.describe()"
      ],
      "metadata": {
        "colab": {
          "base_uri": "https://localhost:8080/",
          "height": 300
        },
        "id": "MLvc6I4_FQCe",
        "outputId": "0ff210f7-6df1-4413-8dc5-75cad37e660e"
      },
      "execution_count": 522,
      "outputs": [
        {
          "output_type": "execute_result",
          "data": {
            "text/html": [
              "\n",
              "  <div id=\"df-8d2fdd7a-56cd-4bcc-b60c-acc18870b52a\">\n",
              "    <div class=\"colab-df-container\">\n",
              "      <div>\n",
              "<style scoped>\n",
              "    .dataframe tbody tr th:only-of-type {\n",
              "        vertical-align: middle;\n",
              "    }\n",
              "\n",
              "    .dataframe tbody tr th {\n",
              "        vertical-align: top;\n",
              "    }\n",
              "\n",
              "    .dataframe thead th {\n",
              "        text-align: right;\n",
              "    }\n",
              "</style>\n",
              "<table border=\"1\" class=\"dataframe\">\n",
              "  <thead>\n",
              "    <tr style=\"text-align: right;\">\n",
              "      <th></th>\n",
              "      <th>ip</th>\n",
              "      <th>app</th>\n",
              "      <th>device</th>\n",
              "      <th>os</th>\n",
              "      <th>channel</th>\n",
              "      <th>is_attributed</th>\n",
              "    </tr>\n",
              "  </thead>\n",
              "  <tbody>\n",
              "    <tr>\n",
              "      <th>count</th>\n",
              "      <td>100000.000000</td>\n",
              "      <td>100000.00000</td>\n",
              "      <td>100000.000000</td>\n",
              "      <td>100000.000000</td>\n",
              "      <td>100000.000000</td>\n",
              "      <td>100000.000000</td>\n",
              "    </tr>\n",
              "    <tr>\n",
              "      <th>mean</th>\n",
              "      <td>91255.879670</td>\n",
              "      <td>12.04788</td>\n",
              "      <td>21.771250</td>\n",
              "      <td>22.818280</td>\n",
              "      <td>268.832460</td>\n",
              "      <td>0.002270</td>\n",
              "    </tr>\n",
              "    <tr>\n",
              "      <th>std</th>\n",
              "      <td>69835.553661</td>\n",
              "      <td>14.94150</td>\n",
              "      <td>259.667767</td>\n",
              "      <td>55.943136</td>\n",
              "      <td>129.724248</td>\n",
              "      <td>0.047591</td>\n",
              "    </tr>\n",
              "    <tr>\n",
              "      <th>min</th>\n",
              "      <td>9.000000</td>\n",
              "      <td>1.00000</td>\n",
              "      <td>0.000000</td>\n",
              "      <td>0.000000</td>\n",
              "      <td>3.000000</td>\n",
              "      <td>0.000000</td>\n",
              "    </tr>\n",
              "    <tr>\n",
              "      <th>25%</th>\n",
              "      <td>40552.000000</td>\n",
              "      <td>3.00000</td>\n",
              "      <td>1.000000</td>\n",
              "      <td>13.000000</td>\n",
              "      <td>145.000000</td>\n",
              "      <td>0.000000</td>\n",
              "    </tr>\n",
              "    <tr>\n",
              "      <th>50%</th>\n",
              "      <td>79827.000000</td>\n",
              "      <td>12.00000</td>\n",
              "      <td>1.000000</td>\n",
              "      <td>18.000000</td>\n",
              "      <td>258.000000</td>\n",
              "      <td>0.000000</td>\n",
              "    </tr>\n",
              "    <tr>\n",
              "      <th>75%</th>\n",
              "      <td>118252.000000</td>\n",
              "      <td>15.00000</td>\n",
              "      <td>1.000000</td>\n",
              "      <td>19.000000</td>\n",
              "      <td>379.000000</td>\n",
              "      <td>0.000000</td>\n",
              "    </tr>\n",
              "    <tr>\n",
              "      <th>max</th>\n",
              "      <td>364757.000000</td>\n",
              "      <td>551.00000</td>\n",
              "      <td>3867.000000</td>\n",
              "      <td>866.000000</td>\n",
              "      <td>498.000000</td>\n",
              "      <td>1.000000</td>\n",
              "    </tr>\n",
              "  </tbody>\n",
              "</table>\n",
              "</div>\n",
              "      <button class=\"colab-df-convert\" onclick=\"convertToInteractive('df-8d2fdd7a-56cd-4bcc-b60c-acc18870b52a')\"\n",
              "              title=\"Convert this dataframe to an interactive table.\"\n",
              "              style=\"display:none;\">\n",
              "        \n",
              "  <svg xmlns=\"http://www.w3.org/2000/svg\" height=\"24px\"viewBox=\"0 0 24 24\"\n",
              "       width=\"24px\">\n",
              "    <path d=\"M0 0h24v24H0V0z\" fill=\"none\"/>\n",
              "    <path d=\"M18.56 5.44l.94 2.06.94-2.06 2.06-.94-2.06-.94-.94-2.06-.94 2.06-2.06.94zm-11 1L8.5 8.5l.94-2.06 2.06-.94-2.06-.94L8.5 2.5l-.94 2.06-2.06.94zm10 10l.94 2.06.94-2.06 2.06-.94-2.06-.94-.94-2.06-.94 2.06-2.06.94z\"/><path d=\"M17.41 7.96l-1.37-1.37c-.4-.4-.92-.59-1.43-.59-.52 0-1.04.2-1.43.59L10.3 9.45l-7.72 7.72c-.78.78-.78 2.05 0 2.83L4 21.41c.39.39.9.59 1.41.59.51 0 1.02-.2 1.41-.59l7.78-7.78 2.81-2.81c.8-.78.8-2.07 0-2.86zM5.41 20L4 18.59l7.72-7.72 1.47 1.35L5.41 20z\"/>\n",
              "  </svg>\n",
              "      </button>\n",
              "      \n",
              "  <style>\n",
              "    .colab-df-container {\n",
              "      display:flex;\n",
              "      flex-wrap:wrap;\n",
              "      gap: 12px;\n",
              "    }\n",
              "\n",
              "    .colab-df-convert {\n",
              "      background-color: #E8F0FE;\n",
              "      border: none;\n",
              "      border-radius: 50%;\n",
              "      cursor: pointer;\n",
              "      display: none;\n",
              "      fill: #1967D2;\n",
              "      height: 32px;\n",
              "      padding: 0 0 0 0;\n",
              "      width: 32px;\n",
              "    }\n",
              "\n",
              "    .colab-df-convert:hover {\n",
              "      background-color: #E2EBFA;\n",
              "      box-shadow: 0px 1px 2px rgba(60, 64, 67, 0.3), 0px 1px 3px 1px rgba(60, 64, 67, 0.15);\n",
              "      fill: #174EA6;\n",
              "    }\n",
              "\n",
              "    [theme=dark] .colab-df-convert {\n",
              "      background-color: #3B4455;\n",
              "      fill: #D2E3FC;\n",
              "    }\n",
              "\n",
              "    [theme=dark] .colab-df-convert:hover {\n",
              "      background-color: #434B5C;\n",
              "      box-shadow: 0px 1px 3px 1px rgba(0, 0, 0, 0.15);\n",
              "      filter: drop-shadow(0px 1px 2px rgba(0, 0, 0, 0.3));\n",
              "      fill: #FFFFFF;\n",
              "    }\n",
              "  </style>\n",
              "\n",
              "      <script>\n",
              "        const buttonEl =\n",
              "          document.querySelector('#df-8d2fdd7a-56cd-4bcc-b60c-acc18870b52a button.colab-df-convert');\n",
              "        buttonEl.style.display =\n",
              "          google.colab.kernel.accessAllowed ? 'block' : 'none';\n",
              "\n",
              "        async function convertToInteractive(key) {\n",
              "          const element = document.querySelector('#df-8d2fdd7a-56cd-4bcc-b60c-acc18870b52a');\n",
              "          const dataTable =\n",
              "            await google.colab.kernel.invokeFunction('convertToInteractive',\n",
              "                                                     [key], {});\n",
              "          if (!dataTable) return;\n",
              "\n",
              "          const docLinkHtml = 'Like what you see? Visit the ' +\n",
              "            '<a target=\"_blank\" href=https://colab.research.google.com/notebooks/data_table.ipynb>data table notebook</a>'\n",
              "            + ' to learn more about interactive tables.';\n",
              "          element.innerHTML = '';\n",
              "          dataTable['output_type'] = 'display_data';\n",
              "          await google.colab.output.renderOutput(dataTable, element);\n",
              "          const docLink = document.createElement('div');\n",
              "          docLink.innerHTML = docLinkHtml;\n",
              "          element.appendChild(docLink);\n",
              "        }\n",
              "      </script>\n",
              "    </div>\n",
              "  </div>\n",
              "  "
            ],
            "text/plain": [
              "                  ip           app  ...        channel  is_attributed\n",
              "count  100000.000000  100000.00000  ...  100000.000000  100000.000000\n",
              "mean    91255.879670      12.04788  ...     268.832460       0.002270\n",
              "std     69835.553661      14.94150  ...     129.724248       0.047591\n",
              "min         9.000000       1.00000  ...       3.000000       0.000000\n",
              "25%     40552.000000       3.00000  ...     145.000000       0.000000\n",
              "50%     79827.000000      12.00000  ...     258.000000       0.000000\n",
              "75%    118252.000000      15.00000  ...     379.000000       0.000000\n",
              "max    364757.000000     551.00000  ...     498.000000       1.000000\n",
              "\n",
              "[8 rows x 6 columns]"
            ]
          },
          "metadata": {},
          "execution_count": 522
        }
      ]
    },
    {
      "cell_type": "code",
      "source": [
        "df.shape"
      ],
      "metadata": {
        "colab": {
          "base_uri": "https://localhost:8080/"
        },
        "id": "_DzAEIiqFSYu",
        "outputId": "1504ab8c-fd92-4988-c475-663a8c4db3e1"
      },
      "execution_count": 523,
      "outputs": [
        {
          "output_type": "execute_result",
          "data": {
            "text/plain": [
              "(100000, 8)"
            ]
          },
          "metadata": {},
          "execution_count": 523
        }
      ]
    },
    {
      "cell_type": "code",
      "source": [
        "df.info()"
      ],
      "metadata": {
        "colab": {
          "base_uri": "https://localhost:8080/"
        },
        "id": "sIy1euPKFWLF",
        "outputId": "02fe9d3e-465d-4c72-d3b0-1a8a83e4c334"
      },
      "execution_count": 524,
      "outputs": [
        {
          "output_type": "stream",
          "name": "stdout",
          "text": [
            "<class 'pandas.core.frame.DataFrame'>\n",
            "RangeIndex: 100000 entries, 0 to 99999\n",
            "Data columns (total 8 columns):\n",
            " #   Column           Non-Null Count   Dtype \n",
            "---  ------           --------------   ----- \n",
            " 0   ip               100000 non-null  int64 \n",
            " 1   app              100000 non-null  int64 \n",
            " 2   device           100000 non-null  int64 \n",
            " 3   os               100000 non-null  int64 \n",
            " 4   channel          100000 non-null  int64 \n",
            " 5   click_time       100000 non-null  object\n",
            " 6   attributed_time  227 non-null     object\n",
            " 7   is_attributed    100000 non-null  int64 \n",
            "dtypes: int64(6), object(2)\n",
            "memory usage: 6.1+ MB\n"
          ]
        }
      ]
    },
    {
      "cell_type": "code",
      "source": [
        "miss_val = df.isna().sum()\n",
        "miss_val"
      ],
      "metadata": {
        "colab": {
          "base_uri": "https://localhost:8080/"
        },
        "id": "7ILkHYLjFqlV",
        "outputId": "340c329f-1d03-4601-d640-4027a16a7457"
      },
      "execution_count": 525,
      "outputs": [
        {
          "output_type": "execute_result",
          "data": {
            "text/plain": [
              "ip                     0\n",
              "app                    0\n",
              "device                 0\n",
              "os                     0\n",
              "channel                0\n",
              "click_time             0\n",
              "attributed_time    99773\n",
              "is_attributed          0\n",
              "dtype: int64"
            ]
          },
          "metadata": {},
          "execution_count": 525
        }
      ]
    },
    {
      "cell_type": "code",
      "source": [
        "## Section 2"
      ],
      "metadata": {
        "id": "u9wHkOQuMyqc"
      },
      "execution_count": 526,
      "outputs": []
    },
    {
      "cell_type": "code",
      "source": [
        "col_uni = df.nunique(axis = 0)\n",
        "col_uni"
      ],
      "metadata": {
        "colab": {
          "base_uri": "https://localhost:8080/"
        },
        "id": "AuaNjNWl58OJ",
        "outputId": "4790a71d-90e5-41c6-9118-cda83ca13761"
      },
      "execution_count": 527,
      "outputs": [
        {
          "output_type": "execute_result",
          "data": {
            "text/plain": [
              "ip                 34857\n",
              "app                  161\n",
              "device               100\n",
              "os                   130\n",
              "channel              161\n",
              "click_time         80350\n",
              "attributed_time      227\n",
              "is_attributed          2\n",
              "dtype: int64"
            ]
          },
          "metadata": {},
          "execution_count": 527
        }
      ]
    },
    {
      "cell_type": "code",
      "source": [
        "df['ip'].nunique()"
      ],
      "metadata": {
        "colab": {
          "base_uri": "https://localhost:8080/"
        },
        "id": "a489bUruHj8j",
        "outputId": "a1a64c1f-ac83-46c3-a4d2-f0faca49d011"
      },
      "execution_count": 528,
      "outputs": [
        {
          "output_type": "execute_result",
          "data": {
            "text/plain": [
              "34857"
            ]
          },
          "metadata": {},
          "execution_count": 528
        }
      ]
    },
    {
      "cell_type": "code",
      "source": [
        "df['app'].nunique()"
      ],
      "metadata": {
        "colab": {
          "base_uri": "https://localhost:8080/"
        },
        "id": "Vv-dTCw9K-07",
        "outputId": "0fd4df6e-0f6d-4361-9cf4-39aa1204a2de"
      },
      "execution_count": 529,
      "outputs": [
        {
          "output_type": "execute_result",
          "data": {
            "text/plain": [
              "161"
            ]
          },
          "metadata": {},
          "execution_count": 529
        }
      ]
    },
    {
      "cell_type": "code",
      "source": [
        "df['device'].nunique()"
      ],
      "metadata": {
        "colab": {
          "base_uri": "https://localhost:8080/"
        },
        "id": "ANiqCG0DK-ya",
        "outputId": "c586e06c-9a75-4d77-953e-b5c73c76438e"
      },
      "execution_count": 530,
      "outputs": [
        {
          "output_type": "execute_result",
          "data": {
            "text/plain": [
              "100"
            ]
          },
          "metadata": {},
          "execution_count": 530
        }
      ]
    },
    {
      "cell_type": "code",
      "source": [
        "df['os'].nunique()"
      ],
      "metadata": {
        "colab": {
          "base_uri": "https://localhost:8080/"
        },
        "id": "kXI1ut09K-wu",
        "outputId": "8d743414-8325-472e-abcd-6481d378152c"
      },
      "execution_count": 531,
      "outputs": [
        {
          "output_type": "execute_result",
          "data": {
            "text/plain": [
              "130"
            ]
          },
          "metadata": {},
          "execution_count": 531
        }
      ]
    },
    {
      "cell_type": "code",
      "source": [
        "df['channel'].nunique()"
      ],
      "metadata": {
        "colab": {
          "base_uri": "https://localhost:8080/"
        },
        "id": "rIGqnlR4K-uA",
        "outputId": "3ca4b9c4-2a50-4345-8010-c24d81e325f5"
      },
      "execution_count": 532,
      "outputs": [
        {
          "output_type": "execute_result",
          "data": {
            "text/plain": [
              "161"
            ]
          },
          "metadata": {},
          "execution_count": 532
        }
      ]
    },
    {
      "cell_type": "code",
      "source": [
        "df['click_time'].nunique()"
      ],
      "metadata": {
        "colab": {
          "base_uri": "https://localhost:8080/"
        },
        "id": "D9i6_37-K-rg",
        "outputId": "6e302830-84c0-4359-d97c-ca9836330a78"
      },
      "execution_count": 533,
      "outputs": [
        {
          "output_type": "execute_result",
          "data": {
            "text/plain": [
              "80350"
            ]
          },
          "metadata": {},
          "execution_count": 533
        }
      ]
    },
    {
      "cell_type": "code",
      "source": [
        "df['attributed_time'].nunique()"
      ],
      "metadata": {
        "colab": {
          "base_uri": "https://localhost:8080/"
        },
        "id": "E2ly5qblK-n3",
        "outputId": "30f043a7-6b09-494e-c5a7-0ec9d4b93878"
      },
      "execution_count": 534,
      "outputs": [
        {
          "output_type": "execute_result",
          "data": {
            "text/plain": [
              "227"
            ]
          },
          "metadata": {},
          "execution_count": 534
        }
      ]
    },
    {
      "cell_type": "code",
      "source": [
        "df['is_attributed'].nunique()"
      ],
      "metadata": {
        "colab": {
          "base_uri": "https://localhost:8080/"
        },
        "id": "CJhghnjMK-jD",
        "outputId": "9082bbb1-7707-4a58-c193-4d2084257f80"
      },
      "execution_count": 535,
      "outputs": [
        {
          "output_type": "execute_result",
          "data": {
            "text/plain": [
              "2"
            ]
          },
          "metadata": {},
          "execution_count": 535
        }
      ]
    },
    {
      "cell_type": "code",
      "source": [
        "## Section 3"
      ],
      "metadata": {
        "id": "q7OyimIaK-cS"
      },
      "execution_count": 536,
      "outputs": []
    },
    {
      "cell_type": "code",
      "source": [
        "removals = df['app'].value_counts().reset_index()\n",
        "removals = removals[removals['app']>20]['index'].values"
      ],
      "metadata": {
        "id": "UwuBzNkWO4mv"
      },
      "execution_count": 537,
      "outputs": []
    },
    {
      "cell_type": "code",
      "source": [
        "rdf1 = df[df['app'].isin(removals)]\n",
        "print(rdf1)"
      ],
      "metadata": {
        "colab": {
          "base_uri": "https://localhost:8080/"
        },
        "id": "fznbiKoiO4kJ",
        "outputId": "008cec3a-d404-4328-faf6-1682e6db75ba"
      },
      "execution_count": 538,
      "outputs": [
        {
          "output_type": "stream",
          "name": "stdout",
          "text": [
            "           ip  app  device  ...           click_time  attributed_time is_attributed\n",
            "0       87540   12       1  ...  2017-11-07 09:30:38              NaN             0\n",
            "1      105560   25       1  ...  2017-11-07 13:40:27              NaN             0\n",
            "2      101424   12       1  ...  2017-11-07 18:05:24              NaN             0\n",
            "3       94584   13       1  ...  2017-11-07 04:58:08              NaN             0\n",
            "4       68413   12       1  ...  2017-11-09 09:00:09              NaN             0\n",
            "...       ...  ...     ...  ...                  ...              ...           ...\n",
            "99995  124883   11       1  ...  2017-11-09 13:25:41              NaN             0\n",
            "99996   85150    9       1  ...  2017-11-07 11:25:43              NaN             0\n",
            "99997   18839    3       1  ...  2017-11-08 11:38:42              NaN             0\n",
            "99998  114276   15       1  ...  2017-11-08 17:55:21              NaN             0\n",
            "99999  119349   14       1  ...  2017-11-07 14:32:27              NaN             0\n",
            "\n",
            "[99546 rows x 8 columns]\n"
          ]
        }
      ]
    },
    {
      "cell_type": "code",
      "source": [
        "rdf1.info()"
      ],
      "metadata": {
        "colab": {
          "base_uri": "https://localhost:8080/"
        },
        "id": "LtsiMAdhR7Ry",
        "outputId": "c3833e17-deef-4260-bd25-c6c3f324ce4d"
      },
      "execution_count": 539,
      "outputs": [
        {
          "output_type": "stream",
          "name": "stdout",
          "text": [
            "<class 'pandas.core.frame.DataFrame'>\n",
            "Int64Index: 99546 entries, 0 to 99999\n",
            "Data columns (total 8 columns):\n",
            " #   Column           Non-Null Count  Dtype \n",
            "---  ------           --------------  ----- \n",
            " 0   ip               99546 non-null  int64 \n",
            " 1   app              99546 non-null  int64 \n",
            " 2   device           99546 non-null  int64 \n",
            " 3   os               99546 non-null  int64 \n",
            " 4   channel          99546 non-null  int64 \n",
            " 5   click_time       99546 non-null  object\n",
            " 6   attributed_time  197 non-null    object\n",
            " 7   is_attributed    99546 non-null  int64 \n",
            "dtypes: int64(6), object(2)\n",
            "memory usage: 6.8+ MB\n"
          ]
        }
      ]
    },
    {
      "cell_type": "code",
      "source": [
        "## Section 4"
      ],
      "metadata": {
        "id": "QGI-7FZEO4fk"
      },
      "execution_count": 540,
      "outputs": []
    },
    {
      "cell_type": "markdown",
      "source": [
        "**4. By using Pandas derive new features such as - 'day_of_week' , 'day_of_year' , 'month' , and 'hour' as                  float/int datatypes using the 'click_time' column . Add the newly derived columns in original dataset.**"
      ],
      "metadata": {
        "id": "xeLANDPmTSdR"
      }
    },
    {
      "cell_type": "code",
      "source": [
        "df['click_time'] = pd.to_datetime(df['click_time'])\n",
        "df['day_of_week'] = df['click_time'].dt.day_name()\n",
        "df['day_of_year'] = df['click_time'].dt.year\n",
        "df['month'] = df['click_time'].dt.month\n",
        "df['hour'] = df['click_time'].dt.hour\n",
        "df = df.drop(['attributed_time','day_of_week','click_time'],axis=1)"
      ],
      "metadata": {
        "id": "ovhTnJjkSHDy"
      },
      "execution_count": 541,
      "outputs": []
    },
    {
      "cell_type": "code",
      "source": [
        "df.head()"
      ],
      "metadata": {
        "colab": {
          "base_uri": "https://localhost:8080/",
          "height": 206
        },
        "id": "eYDiVPyQO4bJ",
        "outputId": "5267579d-a66e-4b52-8353-0702e0ef0e82"
      },
      "execution_count": 542,
      "outputs": [
        {
          "output_type": "execute_result",
          "data": {
            "text/html": [
              "\n",
              "  <div id=\"df-d7907595-5cbe-4bb8-9c6b-23bd2fd6944a\">\n",
              "    <div class=\"colab-df-container\">\n",
              "      <div>\n",
              "<style scoped>\n",
              "    .dataframe tbody tr th:only-of-type {\n",
              "        vertical-align: middle;\n",
              "    }\n",
              "\n",
              "    .dataframe tbody tr th {\n",
              "        vertical-align: top;\n",
              "    }\n",
              "\n",
              "    .dataframe thead th {\n",
              "        text-align: right;\n",
              "    }\n",
              "</style>\n",
              "<table border=\"1\" class=\"dataframe\">\n",
              "  <thead>\n",
              "    <tr style=\"text-align: right;\">\n",
              "      <th></th>\n",
              "      <th>ip</th>\n",
              "      <th>app</th>\n",
              "      <th>device</th>\n",
              "      <th>os</th>\n",
              "      <th>channel</th>\n",
              "      <th>is_attributed</th>\n",
              "      <th>day_of_year</th>\n",
              "      <th>month</th>\n",
              "      <th>hour</th>\n",
              "    </tr>\n",
              "  </thead>\n",
              "  <tbody>\n",
              "    <tr>\n",
              "      <th>0</th>\n",
              "      <td>87540</td>\n",
              "      <td>12</td>\n",
              "      <td>1</td>\n",
              "      <td>13</td>\n",
              "      <td>497</td>\n",
              "      <td>0</td>\n",
              "      <td>2017</td>\n",
              "      <td>11</td>\n",
              "      <td>9</td>\n",
              "    </tr>\n",
              "    <tr>\n",
              "      <th>1</th>\n",
              "      <td>105560</td>\n",
              "      <td>25</td>\n",
              "      <td>1</td>\n",
              "      <td>17</td>\n",
              "      <td>259</td>\n",
              "      <td>0</td>\n",
              "      <td>2017</td>\n",
              "      <td>11</td>\n",
              "      <td>13</td>\n",
              "    </tr>\n",
              "    <tr>\n",
              "      <th>2</th>\n",
              "      <td>101424</td>\n",
              "      <td>12</td>\n",
              "      <td>1</td>\n",
              "      <td>19</td>\n",
              "      <td>212</td>\n",
              "      <td>0</td>\n",
              "      <td>2017</td>\n",
              "      <td>11</td>\n",
              "      <td>18</td>\n",
              "    </tr>\n",
              "    <tr>\n",
              "      <th>3</th>\n",
              "      <td>94584</td>\n",
              "      <td>13</td>\n",
              "      <td>1</td>\n",
              "      <td>13</td>\n",
              "      <td>477</td>\n",
              "      <td>0</td>\n",
              "      <td>2017</td>\n",
              "      <td>11</td>\n",
              "      <td>4</td>\n",
              "    </tr>\n",
              "    <tr>\n",
              "      <th>4</th>\n",
              "      <td>68413</td>\n",
              "      <td>12</td>\n",
              "      <td>1</td>\n",
              "      <td>1</td>\n",
              "      <td>178</td>\n",
              "      <td>0</td>\n",
              "      <td>2017</td>\n",
              "      <td>11</td>\n",
              "      <td>9</td>\n",
              "    </tr>\n",
              "  </tbody>\n",
              "</table>\n",
              "</div>\n",
              "      <button class=\"colab-df-convert\" onclick=\"convertToInteractive('df-d7907595-5cbe-4bb8-9c6b-23bd2fd6944a')\"\n",
              "              title=\"Convert this dataframe to an interactive table.\"\n",
              "              style=\"display:none;\">\n",
              "        \n",
              "  <svg xmlns=\"http://www.w3.org/2000/svg\" height=\"24px\"viewBox=\"0 0 24 24\"\n",
              "       width=\"24px\">\n",
              "    <path d=\"M0 0h24v24H0V0z\" fill=\"none\"/>\n",
              "    <path d=\"M18.56 5.44l.94 2.06.94-2.06 2.06-.94-2.06-.94-.94-2.06-.94 2.06-2.06.94zm-11 1L8.5 8.5l.94-2.06 2.06-.94-2.06-.94L8.5 2.5l-.94 2.06-2.06.94zm10 10l.94 2.06.94-2.06 2.06-.94-2.06-.94-.94-2.06-.94 2.06-2.06.94z\"/><path d=\"M17.41 7.96l-1.37-1.37c-.4-.4-.92-.59-1.43-.59-.52 0-1.04.2-1.43.59L10.3 9.45l-7.72 7.72c-.78.78-.78 2.05 0 2.83L4 21.41c.39.39.9.59 1.41.59.51 0 1.02-.2 1.41-.59l7.78-7.78 2.81-2.81c.8-.78.8-2.07 0-2.86zM5.41 20L4 18.59l7.72-7.72 1.47 1.35L5.41 20z\"/>\n",
              "  </svg>\n",
              "      </button>\n",
              "      \n",
              "  <style>\n",
              "    .colab-df-container {\n",
              "      display:flex;\n",
              "      flex-wrap:wrap;\n",
              "      gap: 12px;\n",
              "    }\n",
              "\n",
              "    .colab-df-convert {\n",
              "      background-color: #E8F0FE;\n",
              "      border: none;\n",
              "      border-radius: 50%;\n",
              "      cursor: pointer;\n",
              "      display: none;\n",
              "      fill: #1967D2;\n",
              "      height: 32px;\n",
              "      padding: 0 0 0 0;\n",
              "      width: 32px;\n",
              "    }\n",
              "\n",
              "    .colab-df-convert:hover {\n",
              "      background-color: #E2EBFA;\n",
              "      box-shadow: 0px 1px 2px rgba(60, 64, 67, 0.3), 0px 1px 3px 1px rgba(60, 64, 67, 0.15);\n",
              "      fill: #174EA6;\n",
              "    }\n",
              "\n",
              "    [theme=dark] .colab-df-convert {\n",
              "      background-color: #3B4455;\n",
              "      fill: #D2E3FC;\n",
              "    }\n",
              "\n",
              "    [theme=dark] .colab-df-convert:hover {\n",
              "      background-color: #434B5C;\n",
              "      box-shadow: 0px 1px 3px 1px rgba(0, 0, 0, 0.15);\n",
              "      filter: drop-shadow(0px 1px 2px rgba(0, 0, 0, 0.3));\n",
              "      fill: #FFFFFF;\n",
              "    }\n",
              "  </style>\n",
              "\n",
              "      <script>\n",
              "        const buttonEl =\n",
              "          document.querySelector('#df-d7907595-5cbe-4bb8-9c6b-23bd2fd6944a button.colab-df-convert');\n",
              "        buttonEl.style.display =\n",
              "          google.colab.kernel.accessAllowed ? 'block' : 'none';\n",
              "\n",
              "        async function convertToInteractive(key) {\n",
              "          const element = document.querySelector('#df-d7907595-5cbe-4bb8-9c6b-23bd2fd6944a');\n",
              "          const dataTable =\n",
              "            await google.colab.kernel.invokeFunction('convertToInteractive',\n",
              "                                                     [key], {});\n",
              "          if (!dataTable) return;\n",
              "\n",
              "          const docLinkHtml = 'Like what you see? Visit the ' +\n",
              "            '<a target=\"_blank\" href=https://colab.research.google.com/notebooks/data_table.ipynb>data table notebook</a>'\n",
              "            + ' to learn more about interactive tables.';\n",
              "          element.innerHTML = '';\n",
              "          dataTable['output_type'] = 'display_data';\n",
              "          await google.colab.output.renderOutput(dataTable, element);\n",
              "          const docLink = document.createElement('div');\n",
              "          docLink.innerHTML = docLinkHtml;\n",
              "          element.appendChild(docLink);\n",
              "        }\n",
              "      </script>\n",
              "    </div>\n",
              "  </div>\n",
              "  "
            ],
            "text/plain": [
              "       ip  app  device  os  channel  is_attributed  day_of_year  month  hour\n",
              "0   87540   12       1  13      497              0         2017     11     9\n",
              "1  105560   25       1  17      259              0         2017     11    13\n",
              "2  101424   12       1  19      212              0         2017     11    18\n",
              "3   94584   13       1  13      477              0         2017     11     4\n",
              "4   68413   12       1   1      178              0         2017     11     9"
            ]
          },
          "metadata": {},
          "execution_count": 542
        }
      ]
    },
    {
      "cell_type": "code",
      "source": [
        "df.info()"
      ],
      "metadata": {
        "colab": {
          "base_uri": "https://localhost:8080/"
        },
        "id": "vXl47cjKrlKy",
        "outputId": "ff5f4d08-b9ef-4872-9e75-234268d2caf9"
      },
      "execution_count": 543,
      "outputs": [
        {
          "output_type": "stream",
          "name": "stdout",
          "text": [
            "<class 'pandas.core.frame.DataFrame'>\n",
            "RangeIndex: 100000 entries, 0 to 99999\n",
            "Data columns (total 9 columns):\n",
            " #   Column         Non-Null Count   Dtype\n",
            "---  ------         --------------   -----\n",
            " 0   ip             100000 non-null  int64\n",
            " 1   app            100000 non-null  int64\n",
            " 2   device         100000 non-null  int64\n",
            " 3   os             100000 non-null  int64\n",
            " 4   channel        100000 non-null  int64\n",
            " 5   is_attributed  100000 non-null  int64\n",
            " 6   day_of_year    100000 non-null  int64\n",
            " 7   month          100000 non-null  int64\n",
            " 8   hour           100000 non-null  int64\n",
            "dtypes: int64(9)\n",
            "memory usage: 6.9 MB\n"
          ]
        }
      ]
    },
    {
      "cell_type": "code",
      "source": [
        "## Section 5"
      ],
      "metadata": {
        "id": "ZL6oS8S6O4Y8"
      },
      "execution_count": 544,
      "outputs": []
    },
    {
      "cell_type": "markdown",
      "source": [
        "**5. Divide the data into training and testing subsets into 80:20 ratio(Train_data = 80% , Testing_data = 20%) and\n",
        "     check the average download rates('is_attributed') for train and test data, scores should be comparable.**"
      ],
      "metadata": {
        "id": "OPkOTrQzU80I"
      }
    },
    {
      "cell_type": "code",
      "source": [
        "from sklearn.model_selection import train_test_split\n",
        "train, test = train_test_split(df, test_size=0.20)"
      ],
      "metadata": {
        "id": "AATL3UXzU71A"
      },
      "execution_count": 545,
      "outputs": []
    },
    {
      "cell_type": "code",
      "source": [
        "X_train = train.drop(['is_attributed'], axis = 1)\n",
        "y_train = train['is_attributed']\n",
        "\n",
        "X_test = test.drop(['is_attributed'], axis = 1)\n",
        "y_test = test['is_attributed']"
      ],
      "metadata": {
        "id": "m8nwx9G4VUqI"
      },
      "execution_count": 546,
      "outputs": []
    },
    {
      "cell_type": "code",
      "source": [
        "print('Dimension of X_train:', X_train.shape)\n",
        "print('Dimension of y_train:', y_train.shape)\n",
        "print('Dimension of X_test:', X_test.shape)\n",
        "print('Dimension of y_test:', y_test.shape)"
      ],
      "metadata": {
        "colab": {
          "base_uri": "https://localhost:8080/"
        },
        "id": "WcBAYKIkVbgt",
        "outputId": "b9e1678a-aa3a-47b0-9a4e-ee2acfed8fa5"
      },
      "execution_count": 547,
      "outputs": [
        {
          "output_type": "stream",
          "name": "stdout",
          "text": [
            "Dimension of X_train: (80000, 8)\n",
            "Dimension of y_train: (80000,)\n",
            "Dimension of X_test: (20000, 8)\n",
            "Dimension of y_test: (20000,)\n"
          ]
        }
      ]
    },
    {
      "cell_type": "code",
      "source": [
        "## Section 6"
      ],
      "metadata": {
        "id": "bZ7AP6YYVcQY"
      },
      "execution_count": 548,
      "outputs": []
    },
    {
      "cell_type": "markdown",
      "source": [
        "**6. Apply XGBoostClassifier with default parameters on training data and make first 10 prediction for Test data.          NOTE: Use y_pred = model.predict_proba(X_test) since we need probabilities to compute AUC.** "
      ],
      "metadata": {
        "id": "IwW4V-nwW5o6"
      }
    },
    {
      "cell_type": "code",
      "source": [
        "import xgboost as xgb\n",
        "from xgboost import XGBClassifier"
      ],
      "metadata": {
        "id": "eL10SlhBW6Ge"
      },
      "execution_count": 549,
      "outputs": []
    },
    {
      "cell_type": "code",
      "source": [
        "from sklearn.model_selection import train_test_split\n",
        "traino, testo = train_test_split(df, test_size=0.20)"
      ],
      "metadata": {
        "id": "1c4hsIXI1vmJ"
      },
      "execution_count": 550,
      "outputs": []
    },
    {
      "cell_type": "code",
      "source": [
        "X_traino = traino.drop(['is_attributed'], axis = 1)\n",
        "y_traino = traino['is_attributed']\n",
        "\n",
        "X_testo = testo.drop(['is_attributed'], axis = 1)\n",
        "y_testo = testo['is_attributed']"
      ],
      "metadata": {
        "id": "gcu8DpzQ1Xjq"
      },
      "execution_count": 551,
      "outputs": []
    },
    {
      "cell_type": "code",
      "source": [
        "model = XGBClassifier()\n",
        "model.fit(X_traino, y_traino)"
      ],
      "metadata": {
        "colab": {
          "base_uri": "https://localhost:8080/"
        },
        "id": "pARF6a_6XOKe",
        "outputId": "983ab407-d898-4875-b902-c439480ecffb"
      },
      "execution_count": 552,
      "outputs": [
        {
          "output_type": "execute_result",
          "data": {
            "text/plain": [
              "XGBClassifier()"
            ]
          },
          "metadata": {},
          "execution_count": 552
        }
      ]
    },
    {
      "cell_type": "code",
      "source": [
        "from sklearn.metrics import accuracy_score"
      ],
      "metadata": {
        "id": "idSm90GG3EFR"
      },
      "execution_count": 553,
      "outputs": []
    },
    {
      "cell_type": "code",
      "source": [
        "y_predo = model.predict(X_testo)"
      ],
      "metadata": {
        "id": "hY2EHA2dXOGJ"
      },
      "execution_count": 554,
      "outputs": []
    },
    {
      "cell_type": "code",
      "source": [
        "y_testo.value_counts()"
      ],
      "metadata": {
        "colab": {
          "base_uri": "https://localhost:8080/"
        },
        "id": "OqIYjWJ37uAv",
        "outputId": "8d6ef4a1-906a-4dc8-f0c6-8b8115effceb"
      },
      "execution_count": 555,
      "outputs": [
        {
          "output_type": "execute_result",
          "data": {
            "text/plain": [
              "0    19952\n",
              "1       48\n",
              "Name: is_attributed, dtype: int64"
            ]
          },
          "metadata": {},
          "execution_count": 555
        }
      ]
    },
    {
      "cell_type": "code",
      "source": [
        "y_predo"
      ],
      "metadata": {
        "colab": {
          "base_uri": "https://localhost:8080/"
        },
        "id": "WtT-5ZWv73lN",
        "outputId": "98c1bb92-f16d-4cce-833d-397c888f8a7d"
      },
      "execution_count": 556,
      "outputs": [
        {
          "output_type": "execute_result",
          "data": {
            "text/plain": [
              "array([0, 0, 0, ..., 0, 0, 0])"
            ]
          },
          "metadata": {},
          "execution_count": 556
        }
      ]
    },
    {
      "cell_type": "code",
      "source": [
        "from sklearn.metrics import roc_auc_score,confusion_matrix\n",
        "\n",
        "auc_score5 = roc_auc_score(y_testo, y_predo)\n",
        "\n",
        "print('AUC/ROC score by XGBClassifier is:', auc_score5)"
      ],
      "metadata": {
        "id": "gSINvdTYEo1b",
        "colab": {
          "base_uri": "https://localhost:8080/"
        },
        "outputId": "187c470d-724e-407e-9aff-a0e98e1b731f"
      },
      "execution_count": 557,
      "outputs": [
        {
          "output_type": "stream",
          "name": "stdout",
          "text": [
            "AUC/ROC score by XGBClassifier is: 0.5624498797113071\n"
          ]
        }
      ]
    },
    {
      "cell_type": "code",
      "source": [
        "model.score(X_testo,y_testo)"
      ],
      "metadata": {
        "id": "2NIF2LWZXN9l",
        "colab": {
          "base_uri": "https://localhost:8080/"
        },
        "outputId": "c4088aba-1737-4dee-8ea5-e4e14b53411b"
      },
      "execution_count": 558,
      "outputs": [
        {
          "output_type": "execute_result",
          "data": {
            "text/plain": [
              "0.9978"
            ]
          },
          "metadata": {},
          "execution_count": 558
        }
      ]
    },
    {
      "cell_type": "code",
      "source": [
        "from sklearn.metrics import classification_report\n",
        "print(classification_report(y_testo,y_predo))"
      ],
      "metadata": {
        "colab": {
          "base_uri": "https://localhost:8080/"
        },
        "id": "QfLVxXdzcYp3",
        "outputId": "b1f459d2-627c-4bdb-e536-95839637f61a"
      },
      "execution_count": 559,
      "outputs": [
        {
          "output_type": "stream",
          "name": "stdout",
          "text": [
            "              precision    recall  f1-score   support\n",
            "\n",
            "           0       1.00      1.00      1.00     19952\n",
            "           1       0.75      0.12      0.21        48\n",
            "\n",
            "    accuracy                           1.00     20000\n",
            "   macro avg       0.87      0.56      0.61     20000\n",
            "weighted avg       1.00      1.00      1.00     20000\n",
            "\n"
          ]
        }
      ]
    },
    {
      "cell_type": "code",
      "source": [
        "## Section 7"
      ],
      "metadata": {
        "id": "kpWZYfXV3rtW"
      },
      "execution_count": 560,
      "outputs": []
    },
    {
      "cell_type": "markdown",
      "source": [
        "**7. On evaluating the predictions made by the model what is the AUC/ROC score with default hyperparameters.**"
      ],
      "metadata": {
        "id": "lKy4ZlE83w0R"
      }
    },
    {
      "cell_type": "code",
      "source": [
        "from sklearn.datasets import make_classification\n",
        "from sklearn.model_selection import train_test_split\n",
        "\n",
        "X, y = make_classification(n_samples=100000, n_classes=2, n_features=20, random_state=20)\n",
        "\n",
        "X_traina, X_testa, y_traina, y_testa = train_test_split(X, y, test_size=0.2, random_state=20)"
      ],
      "metadata": {
        "id": "LaVBFoqt3rrp"
      },
      "execution_count": 561,
      "outputs": []
    },
    {
      "cell_type": "code",
      "source": [
        "from sklearn.linear_model import LogisticRegression\n",
        "from sklearn.neighbors import KNeighborsClassifier\n",
        "\n",
        "model1 = LogisticRegression()\n",
        "\n",
        "model2 = KNeighborsClassifier(n_neighbors=4)\n",
        "\n",
        "model1.fit(X_traina, y_traina)\n",
        "model2.fit(X_traina, y_traina)\n",
        "\n",
        "pred_prob1 = model1.predict_proba(X_testa)\n",
        "pred_prob2 = model2.predict_proba(X_testa)"
      ],
      "metadata": {
        "id": "XRj6nb8r3rox"
      },
      "execution_count": 562,
      "outputs": []
    },
    {
      "cell_type": "code",
      "source": [
        "model1.score(X_testa, y_testa)"
      ],
      "metadata": {
        "colab": {
          "base_uri": "https://localhost:8080/"
        },
        "id": "wlJ8-qP7DigC",
        "outputId": "97377ab0-102e-43a6-d9fc-e0bef0291f7d"
      },
      "execution_count": 563,
      "outputs": [
        {
          "output_type": "execute_result",
          "data": {
            "text/plain": [
              "0.85235"
            ]
          },
          "metadata": {},
          "execution_count": 563
        }
      ]
    },
    {
      "cell_type": "code",
      "source": [
        "from sklearn.metrics import roc_auc_score,confusion_matrix\n",
        "\n",
        "auc_score1 = roc_auc_score(y_testa, pred_prob1[:,1])\n",
        "auc_score2 = roc_auc_score(y_testa, pred_prob2[:,1])\n",
        "\n",
        "print(auc_score1, auc_score2)"
      ],
      "metadata": {
        "colab": {
          "base_uri": "https://localhost:8080/"
        },
        "id": "dYzYhD1l5JgS",
        "outputId": "f1f13bab-cfd7-4f28-db06-70d771c4a02d"
      },
      "execution_count": 564,
      "outputs": [
        {
          "output_type": "stream",
          "name": "stdout",
          "text": [
            "0.9207786406338052 0.9050560562972083\n"
          ]
        }
      ]
    },
    {
      "cell_type": "code",
      "source": [
        "## Section 8"
      ],
      "metadata": {
        "id": "BEqAUfX9Agmd"
      },
      "execution_count": 565,
      "outputs": []
    },
    {
      "cell_type": "markdown",
      "source": [
        "**8. Compute feature importance score and name the top 5 features/columns .**"
      ],
      "metadata": {
        "id": "ddVWKd1oAj62"
      }
    },
    {
      "cell_type": "code",
      "source": [
        "# Constructing correlation Matrix\n",
        "data_corr =df.corr()"
      ],
      "metadata": {
        "id": "CH9DKkbSa1R0"
      },
      "execution_count": 566,
      "outputs": []
    },
    {
      "cell_type": "code",
      "source": [
        "# Considering only the features which have absolute correlation value greater than 0.0\n",
        "\n",
        "data_corr = data_corr['is_attributed'][:-1]\n",
        "data_corr[abs(data_corr)>=0.0].sort_values(ascending=False)"
      ],
      "metadata": {
        "colab": {
          "base_uri": "https://localhost:8080/"
        },
        "id": "JmrpZwX1Z3JE",
        "outputId": "f827ed7a-3fe8-48dc-c1a4-3510e9c5ead2"
      },
      "execution_count": 567,
      "outputs": [
        {
          "output_type": "execute_result",
          "data": {
            "text/plain": [
              "is_attributed    1.000000\n",
              "app              0.064426\n",
              "ip               0.054955\n",
              "os               0.006183\n",
              "device          -0.000695\n",
              "channel         -0.023336\n",
              "Name: is_attributed, dtype: float64"
            ]
          },
          "metadata": {},
          "execution_count": 567
        }
      ]
    },
    {
      "cell_type": "code",
      "source": [
        "## Section 8\n",
        "## SMOTE"
      ],
      "metadata": {
        "id": "oYtpJiAEAghd"
      },
      "execution_count": 568,
      "outputs": []
    },
    {
      "cell_type": "code",
      "source": [
        "from imblearn.over_sampling import SMOTE\n",
        "sm = SMOTE()"
      ],
      "metadata": {
        "id": "kjxWUpTHAgaC"
      },
      "execution_count": 569,
      "outputs": []
    },
    {
      "cell_type": "code",
      "source": [
        "x_sm, y_sm = sm.fit_resample(X, y)"
      ],
      "metadata": {
        "id": "uGdS8P1lAgX1"
      },
      "execution_count": 570,
      "outputs": []
    },
    {
      "cell_type": "code",
      "source": [
        "X_train_sm, X_test_sm, y_train_sm, y_test_sm = train_test_split(x_sm,y_sm, test_size= 0.75)\n"
      ],
      "metadata": {
        "id": "82pjZ3A-AgR2"
      },
      "execution_count": 571,
      "outputs": []
    },
    {
      "cell_type": "code",
      "source": [
        "from sklearn.ensemble import BaggingClassifier\n",
        "model = BaggingClassifier(n_estimators=10)\n",
        "model.fit(X_train_sm, y_train_sm)\n",
        "y_predict = model.predict(X_test_sm)\n",
        "print(accuracy_score(y_test_sm,y_predict))\n",
        "print(confusion_matrix(y_test_sm,y_predict))\n"
      ],
      "metadata": {
        "colab": {
          "base_uri": "https://localhost:8080/"
        },
        "id": "E0kfWnTthRKB",
        "outputId": "d53aed73-4b5a-43a4-fcbe-cae0a7c8138d"
      },
      "execution_count": 572,
      "outputs": [
        {
          "output_type": "stream",
          "name": "stdout",
          "text": [
            "0.8994427558257345\n",
            "[[34822  2608]\n",
            " [ 4935 32647]]\n"
          ]
        }
      ]
    },
    {
      "cell_type": "code",
      "source": [
        "from sklearn.linear_model import LogisticRegression\n",
        "model = LogisticRegression()\n",
        "model.fit(X_train_sm, y_train_sm)\n",
        "y_predict1 = model.predict(X_test_sm)\n",
        "print(accuracy_score(y_test_sm,y_predict1))\n",
        "print(confusion_matrix(y_test_sm,y_predict1))"
      ],
      "metadata": {
        "colab": {
          "base_uri": "https://localhost:8080/"
        },
        "id": "p5lFDidGm9au",
        "outputId": "fc72208c-38ce-40c8-b34d-9c0b928c894b"
      },
      "execution_count": 573,
      "outputs": [
        {
          "output_type": "stream",
          "name": "stdout",
          "text": [
            "0.8554631258998561\n",
            "[[32413  5017]\n",
            " [ 5825 31757]]\n"
          ]
        }
      ]
    },
    {
      "cell_type": "code",
      "source": [
        "from sklearn.metrics import roc_auc_score,confusion_matrix\n",
        "\n",
        "auc_score3 = roc_auc_score(y_test_sm, y_predict)\n",
        "auc_score4 = roc_auc_score(y_test_sm, y_predict1)\n",
        "\n",
        "print('AUC/ROC score by BaggingClassifer is:', auc_score3)\n",
        "print('AUC/ROC score by LogisticClassifer is:', auc_score4)"
      ],
      "metadata": {
        "colab": {
          "base_uri": "https://localhost:8080/"
        },
        "id": "yLYU7rBVhRHT",
        "outputId": "15423312-f089-48c4-f6f3-13bdd337e69d"
      },
      "execution_count": 574,
      "outputs": [
        {
          "output_type": "stream",
          "name": "stdout",
          "text": [
            "AUC/ROC score by BaggingClassifer is: 0.8995052037818082\n",
            "AUC/ROC score by LogisticClassifer is: 0.8554843594797921\n"
          ]
        }
      ]
    }
  ]
}